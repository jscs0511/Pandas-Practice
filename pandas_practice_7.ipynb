{
 "cells": [
  {
   "cell_type": "markdown",
   "metadata": {},
   "source": [
    "Before you turn this problem in, make sure everything runs as expected. First, **restart the kernel** (in the menubar, select Kernel$\\rightarrow$Restart) and then **run all cells** (in the menubar, select Cell$\\rightarrow$Run All).\n",
    "\n",
    "Make sure you fill in any place that says `YOUR CODE HERE` or \"YOUR ANSWER HERE\", as well as your name and collaborators below:"
   ]
  },
  {
   "cell_type": "code",
   "execution_count": 1,
   "metadata": {},
   "outputs": [],
   "source": [
    "NAME = \"Sol Jang\"\n",
    "COLLABORATORS = \"\""
   ]
  },
  {
   "cell_type": "markdown",
   "metadata": {},
   "source": [
    "---"
   ]
  },
  {
   "cell_type": "markdown",
   "metadata": {
    "deletable": false,
    "editable": false,
    "nbgrader": {
     "cell_type": "markdown",
     "checksum": "3784652c19939abe5e5d7cce81842dd8",
     "grade": false,
     "grade_id": "cell-8b0e69c64dcad368",
     "locked": true,
     "schema_version": 3,
     "solution": false,
     "task": false
    }
   },
   "source": [
    "# Part 1 -- pandas dataframes"
   ]
  },
  {
   "cell_type": "code",
   "execution_count": 2,
   "metadata": {
    "deletable": false,
    "editable": false,
    "nbgrader": {
     "cell_type": "code",
     "checksum": "cba87e85a3727510443552a6644980ed",
     "grade": false,
     "grade_id": "cell-0b2ccb06d2615dda",
     "locked": true,
     "schema_version": 3,
     "solution": false,
     "task": false
    }
   },
   "outputs": [
    {
     "data": {
      "text/html": [
       "<div>\n",
       "<style scoped>\n",
       "    .dataframe tbody tr th:only-of-type {\n",
       "        vertical-align: middle;\n",
       "    }\n",
       "\n",
       "    .dataframe tbody tr th {\n",
       "        vertical-align: top;\n",
       "    }\n",
       "\n",
       "    .dataframe thead th {\n",
       "        text-align: right;\n",
       "    }\n",
       "</style>\n",
       "<table border=\"1\" class=\"dataframe\">\n",
       "  <thead>\n",
       "    <tr style=\"text-align: right;\">\n",
       "      <th></th>\n",
       "      <th>StudentID</th>\n",
       "      <th>Name</th>\n",
       "      <th>Degree</th>\n",
       "      <th>Exams</th>\n",
       "      <th>Scores</th>\n",
       "    </tr>\n",
       "  </thead>\n",
       "  <tbody>\n",
       "    <tr>\n",
       "      <th>0</th>\n",
       "      <td>1</td>\n",
       "      <td>Rodriguez, Pamela</td>\n",
       "      <td>graduate</td>\n",
       "      <td>exam7 (2017), exam9 (2018), exam3 (2018), exam...</td>\n",
       "      <td>61, 38, 85, 70, 44, 43, 68</td>\n",
       "    </tr>\n",
       "    <tr>\n",
       "      <th>1</th>\n",
       "      <td>2</td>\n",
       "      <td>Jackson, Kristie</td>\n",
       "      <td>undergraduate</td>\n",
       "      <td>exam2 (2017), exam2 (2017), exam8 (2018), exam...</td>\n",
       "      <td>66, 69, 85, 62, 92, 72, 44, 50, 23</td>\n",
       "    </tr>\n",
       "    <tr>\n",
       "      <th>2</th>\n",
       "      <td>3</td>\n",
       "      <td>Curtis, George</td>\n",
       "      <td>graduate</td>\n",
       "      <td>exam7 (2017), exam6 (2017), exam2 (2017), exam...</td>\n",
       "      <td>68, 73, 62, 72</td>\n",
       "    </tr>\n",
       "    <tr>\n",
       "      <th>3</th>\n",
       "      <td>4</td>\n",
       "      <td>Casey, Christie</td>\n",
       "      <td>undergraduate</td>\n",
       "      <td>exam10 (2019), exam4 (2019), exam4 (2019), exa...</td>\n",
       "      <td>41, 52, 52, 70</td>\n",
       "    </tr>\n",
       "    <tr>\n",
       "      <th>4</th>\n",
       "      <td>5</td>\n",
       "      <td>Yoder, Emily</td>\n",
       "      <td>undergraduate</td>\n",
       "      <td>exam4 (2019), exam4 (2019), exam4 (2019)</td>\n",
       "      <td>52, 45, 61</td>\n",
       "    </tr>\n",
       "    <tr>\n",
       "      <th>...</th>\n",
       "      <td>...</td>\n",
       "      <td>...</td>\n",
       "      <td>...</td>\n",
       "      <td>...</td>\n",
       "      <td>...</td>\n",
       "    </tr>\n",
       "    <tr>\n",
       "      <th>95</th>\n",
       "      <td>96</td>\n",
       "      <td>Dyer, Benjamin</td>\n",
       "      <td>undergraduate</td>\n",
       "      <td>exam10 (2019), exam4 (2019), exam6 (2017), exa...</td>\n",
       "      <td>47, 53, 64, 57, 71, 79, 77, 56</td>\n",
       "    </tr>\n",
       "    <tr>\n",
       "      <th>96</th>\n",
       "      <td>97</td>\n",
       "      <td>Delgado, Jason</td>\n",
       "      <td>undergraduate</td>\n",
       "      <td>exam1 (2016), exam8 (2018)</td>\n",
       "      <td>72, 83</td>\n",
       "    </tr>\n",
       "    <tr>\n",
       "      <th>97</th>\n",
       "      <td>98</td>\n",
       "      <td>Cortez, Kenneth</td>\n",
       "      <td>undergraduate</td>\n",
       "      <td>exam3 (2018), exam5 (2020), exam6 (2017)</td>\n",
       "      <td>83, 55, 71</td>\n",
       "    </tr>\n",
       "    <tr>\n",
       "      <th>98</th>\n",
       "      <td>99</td>\n",
       "      <td>Short, Elizabeth</td>\n",
       "      <td>undergraduate</td>\n",
       "      <td>exam3 (2018), exam9 (2018), exam3 (2018), exam...</td>\n",
       "      <td>87, 34, 84, 75, 80, 60, 48, 55, 75</td>\n",
       "    </tr>\n",
       "    <tr>\n",
       "      <th>99</th>\n",
       "      <td>100</td>\n",
       "      <td>Andrade, Robert</td>\n",
       "      <td>undergraduate</td>\n",
       "      <td>exam8 (2018)</td>\n",
       "      <td>82</td>\n",
       "    </tr>\n",
       "  </tbody>\n",
       "</table>\n",
       "<p>100 rows × 5 columns</p>\n",
       "</div>"
      ],
      "text/plain": [
       "    StudentID               Name         Degree  \\\n",
       "0           1  Rodriguez, Pamela       graduate   \n",
       "1           2   Jackson, Kristie  undergraduate   \n",
       "2           3     Curtis, George       graduate   \n",
       "3           4    Casey, Christie  undergraduate   \n",
       "4           5       Yoder, Emily  undergraduate   \n",
       "..        ...                ...            ...   \n",
       "95         96     Dyer, Benjamin  undergraduate   \n",
       "96         97     Delgado, Jason  undergraduate   \n",
       "97         98    Cortez, Kenneth  undergraduate   \n",
       "98         99   Short, Elizabeth  undergraduate   \n",
       "99        100    Andrade, Robert  undergraduate   \n",
       "\n",
       "                                                Exams  \\\n",
       "0   exam7 (2017), exam9 (2018), exam3 (2018), exam...   \n",
       "1   exam2 (2017), exam2 (2017), exam8 (2018), exam...   \n",
       "2   exam7 (2017), exam6 (2017), exam2 (2017), exam...   \n",
       "3   exam10 (2019), exam4 (2019), exam4 (2019), exa...   \n",
       "4            exam4 (2019), exam4 (2019), exam4 (2019)   \n",
       "..                                                ...   \n",
       "95  exam10 (2019), exam4 (2019), exam6 (2017), exa...   \n",
       "96                         exam1 (2016), exam8 (2018)   \n",
       "97           exam3 (2018), exam5 (2020), exam6 (2017)   \n",
       "98  exam3 (2018), exam9 (2018), exam3 (2018), exam...   \n",
       "99                                       exam8 (2018)   \n",
       "\n",
       "                                Scores  \n",
       "0           61, 38, 85, 70, 44, 43, 68  \n",
       "1   66, 69, 85, 62, 92, 72, 44, 50, 23  \n",
       "2                       68, 73, 62, 72  \n",
       "3                       41, 52, 52, 70  \n",
       "4                           52, 45, 61  \n",
       "..                                 ...  \n",
       "95      47, 53, 64, 57, 71, 79, 77, 56  \n",
       "96                              72, 83  \n",
       "97                          83, 55, 71  \n",
       "98  87, 34, 84, 75, 80, 60, 48, 55, 75  \n",
       "99                                  82  \n",
       "\n",
       "[100 rows x 5 columns]"
      ]
     },
     "metadata": {},
     "output_type": "display_data"
    }
   ],
   "source": [
    "import pandas as pd\n",
    "import sqlite3\n",
    "\n",
    "\n",
    "def create_connection(db_file, delete_db=False):\n",
    "    import os\n",
    "    if delete_db and os.path.exists(db_file):\n",
    "        os.remove(db_file)\n",
    "\n",
    "    conn = None\n",
    "    try:\n",
    "        conn = sqlite3.connect(db_file)\n",
    "        conn.execute(\"PRAGMA foreign_keys = 1\")\n",
    "    except Error as e:\n",
    "        print(e)\n",
    "\n",
    "    return conn\n",
    "\n",
    "conn = create_connection('non_normalized.db')\n",
    "sql_statement = \"select * from Students;\"\n",
    "df = pd.read_sql_query(sql_statement, conn)\n",
    "display(df)"
   ]
  },
  {
   "cell_type": "code",
   "execution_count": 3,
   "metadata": {
    "deletable": false,
    "nbgrader": {
     "cell_type": "code",
     "checksum": "45f60c78a62a63e1740748ff9fb4b9cc",
     "grade": false,
     "grade_id": "cell-1b23ab09090e49d8",
     "locked": false,
     "schema_version": 3,
     "solution": true,
     "task": false
    }
   },
   "outputs": [],
   "source": [
    "def create_df_degrees(non_normalized_db_filename):\n",
    "    \"\"\"\n",
    "    Open connection to the non-normalized database and generate a 'df_degrees' dataframe that contains only\n",
    "    the degrees. See screenshot below. \n",
    "    \"\"\"\n",
    "\n",
    "    # YOUR CODE HERE\n",
    "    conn = create_connection(non_normalized_db_filename)\n",
    "    sql_statement = \"SELECT DISTINCT Degree FROM Students ORDER BY Degree;\"\n",
    "    df_degrees = pd.read_sql_query(sql_statement, conn)\n",
    "    return df_degrees"
   ]
  },
  {
   "cell_type": "markdown",
   "metadata": {
    "deletable": false,
    "editable": false,
    "nbgrader": {
     "cell_type": "markdown",
     "checksum": "6681142b9bcd976b69fc91236b3e48d2",
     "grade": false,
     "grade_id": "cell-caff7ad7f17568b3",
     "locked": true,
     "schema_version": 3,
     "solution": false,
     "task": false
    }
   },
   "source": [
    "##### df_degrees should look like this:\n",
    "\n",
    "![df_degrees](df_degrees.png)\n"
   ]
  },
  {
   "cell_type": "code",
   "execution_count": 4,
   "metadata": {
    "deletable": false,
    "editable": false,
    "nbgrader": {
     "cell_type": "code",
     "checksum": "4349fceb4dd0b3229be225d629c04d0f",
     "grade": true,
     "grade_id": "cell-a2646852ce967647",
     "locked": true,
     "points": 5,
     "schema_version": 3,
     "solution": false,
     "task": false
    }
   },
   "outputs": [],
   "source": [
    "df_degrees_from_func = create_df_degrees('non_normalized.db')\n",
    "df_degrees_from_file = pd.read_csv(\"df_degrees.csv\") \n",
    "assert df_degrees_from_func.equals(df_degrees_from_file) == True"
   ]
  },
  {
   "cell_type": "code",
   "execution_count": 5,
   "metadata": {
    "deletable": false,
    "nbgrader": {
     "cell_type": "code",
     "checksum": "de79e39020e6ce4e3f677f56843bae46",
     "grade": false,
     "grade_id": "cell-05e92d8ca24f2599",
     "locked": false,
     "schema_version": 3,
     "solution": true,
     "task": false
    }
   },
   "outputs": [],
   "source": [
    "def create_df_exams(non_normalized_db_filename):\n",
    "    \"\"\"\n",
    "    Open connection to the non-normalized database and generate a 'df_exams' dataframe that contains only\n",
    "    the exams. See screenshot below. Sort by exam!\n",
    "    hints:\n",
    "    # https://stackoverflow.com/a/16476974\n",
    "    # https://stackoverflow.com/a/36108422\n",
    "    \"\"\"\n",
    "\n",
    "    # YOUR CODE HERE\n",
    "    conn = create_connection(non_normalized_db_filename)\n",
    "    sql_statement = \"SELECT Exams FROM Students;\"    \n",
    "    temp = pd.read_sql_query(sql_statement, conn)\n",
    "    temp2 = [ele for line in temp['Exams'] for ele in line.split(', ')]\n",
    "    temp3 = [temp2[i] for i in range(len(temp2)) if temp2[i] not in temp2[0:i]]\n",
    "    df_exams = pd.DataFrame([{'Exam': ele.split(' ')[0], 'Year': int(ele.split(' ')[1][1:-1])} for ele in temp3])\n",
    "    df_exams.sort_values(by = ['Exam'], inplace = True)\n",
    "    df_exams.reset_index(drop = True, inplace = True)\n",
    "    return df_exams"
   ]
  },
  {
   "cell_type": "markdown",
   "metadata": {
    "deletable": false,
    "editable": false,
    "nbgrader": {
     "cell_type": "markdown",
     "checksum": "f0915388efb1a135d9daeb28abb13383",
     "grade": false,
     "grade_id": "cell-a364978baf686fff",
     "locked": true,
     "schema_version": 3,
     "solution": false,
     "task": false
    }
   },
   "source": [
    "##### df_exams should look like this:\n",
    "\n",
    "![df_exams](df_exams_1.png)\n",
    "\n"
   ]
  },
  {
   "cell_type": "code",
   "execution_count": 6,
   "metadata": {
    "deletable": false,
    "editable": false,
    "nbgrader": {
     "cell_type": "code",
     "checksum": "bd28c07b2e8b20af3125b319d67f4bb6",
     "grade": true,
     "grade_id": "cell-dc379d28c485598f",
     "locked": true,
     "points": 5,
     "schema_version": 3,
     "solution": false,
     "task": false
    }
   },
   "outputs": [],
   "source": [
    "df_exams_from_func = create_df_exams('non_normalized.db')\n",
    "df_exams_from_file = pd.read_csv(\"df_exams.csv\") \n",
    "assert df_exams_from_func.equals(df_exams_from_file) == True"
   ]
  },
  {
   "cell_type": "code",
   "execution_count": 7,
   "metadata": {
    "deletable": false,
    "nbgrader": {
     "cell_type": "code",
     "checksum": "08e2f058ef7f2736a3b8d00ec2b6f1b5",
     "grade": false,
     "grade_id": "cell-a9a2c718e47f99e9",
     "locked": false,
     "schema_version": 3,
     "solution": true,
     "task": false
    }
   },
   "outputs": [],
   "source": [
    "def create_df_students(non_normalized_db_filename):\n",
    "    \"\"\"\n",
    "    Open connection to the non-normalized database and generate a 'df_students' dataframe that contains the student\n",
    "    first name, last name, and degree. You will need to add another StudentID column to do pandas merge.\n",
    "    See screenshot below. \n",
    "    You can use the original StudentID from the table. \n",
    "    hint: use .split on the column name!\n",
    "    \"\"\"\n",
    "\n",
    "    # YOUR CODE HERE\n",
    "    conn = create_connection(non_normalized_db_filename)\n",
    "    sql_statement = \"SELECT StudentID, Name, Degree FROM Students;\"\n",
    "    df_students = pd.read_sql_query(sql_statement, conn)\n",
    "    df_students.insert(2, 'First_Name', [ele.split(', ')[1] for ele in df_students['Name']])\n",
    "    df_students.insert(3, 'Last_Name', [ele.split(', ')[0] for ele in df_students['Name']])\n",
    "    df_students.drop(columns = ['Name'], inplace = True)\n",
    "    return df_students"
   ]
  },
  {
   "cell_type": "markdown",
   "metadata": {
    "deletable": false,
    "editable": false,
    "nbgrader": {
     "cell_type": "markdown",
     "checksum": "878aa8aa66e5052948bf57ac3bf5eb44",
     "grade": false,
     "grade_id": "cell-62f9cc0a53feb1ad",
     "locked": true,
     "schema_version": 3,
     "solution": false,
     "task": false
    }
   },
   "source": [
    "##### df_students should look like this:\n",
    "\n",
    "![df_students](df_students.png)\n"
   ]
  },
  {
   "cell_type": "code",
   "execution_count": 8,
   "metadata": {
    "deletable": false,
    "editable": false,
    "nbgrader": {
     "cell_type": "code",
     "checksum": "814a277b5b337bb58deb1872730d26a5",
     "grade": true,
     "grade_id": "cell-243313c64f718b41",
     "locked": true,
     "points": 5,
     "schema_version": 3,
     "solution": false,
     "task": false
    }
   },
   "outputs": [],
   "source": [
    "df_students_from_func = create_df_students('non_normalized.db')\n",
    "df_students_from_file = pd.read_csv(\"df_students.csv\") \n",
    "assert df_students_from_func.equals(df_students_from_file) == True"
   ]
  },
  {
   "cell_type": "code",
   "execution_count": 9,
   "metadata": {
    "deletable": false,
    "nbgrader": {
     "cell_type": "code",
     "checksum": "b080af5b430106495133707177f31cdc",
     "grade": false,
     "grade_id": "cell-94ed0073ba968ac7",
     "locked": false,
     "schema_version": 3,
     "solution": true,
     "task": false
    }
   },
   "outputs": [],
   "source": [
    "def create_df_studentexamscores(non_normalized_db_filename, df_students):\n",
    "    \"\"\"\n",
    "    Open connection to the non-normalized database and generate a 'df_studentexamscores' dataframe that \n",
    "    contains StudentID, exam and score\n",
    "    See screenshot below. \n",
    "    \"\"\"\n",
    "\n",
    "    # YOUR CODE HERE\n",
    "    conn = create_connection(non_normalized_db_filename)\n",
    "    sql_statement = \"SELECT StudentID, Exams, Scores FROM Students;\"\n",
    "    temp = pd.read_sql_query(sql_statement, conn)\n",
    "    temp2 = []\n",
    "    for i in range(len(temp)):\n",
    "        k = temp['Exams'].iloc[i].split(', ')\n",
    "        for j in range(len(k)):\n",
    "            temp2.append({'StudentID': temp['StudentID'].iloc[i],\n",
    "                          'Exam': k[j].split(' ')[0],\n",
    "                          'Score': int(temp['Scores'].iloc[i].split(', ')[j])})\n",
    "    df_studentexamscores = pd.DataFrame(temp2)\n",
    "    return df_studentexamscores"
   ]
  },
  {
   "cell_type": "markdown",
   "metadata": {
    "deletable": false,
    "editable": false,
    "nbgrader": {
     "cell_type": "markdown",
     "checksum": "c9f1ad0eadd9940f8ac34cad407f85c3",
     "grade": false,
     "grade_id": "cell-2825aa1e314c2698",
     "locked": true,
     "schema_version": 3,
     "solution": false,
     "task": false
    }
   },
   "source": [
    "##### df_studentexamscores should look like this:\n",
    "\n",
    "![df_studentexamscores](df_studentexamscores.png)\n",
    "\n"
   ]
  },
  {
   "cell_type": "code",
   "execution_count": 10,
   "metadata": {
    "deletable": false,
    "editable": false,
    "nbgrader": {
     "cell_type": "code",
     "checksum": "2ee4ae3da0b79a1218a9b9eb04621b0f",
     "grade": true,
     "grade_id": "cell-1a6c542264b04e1e",
     "locked": true,
     "points": 5,
     "schema_version": 3,
     "solution": false,
     "task": false
    }
   },
   "outputs": [],
   "source": [
    "df_students = create_df_students('non_normalized.db')\n",
    "df_studentexamscores_from_func = create_df_studentexamscores('non_normalized.db', df_students)\n",
    "df_studentexamscores_from_file = pd.read_csv(\"df_studentexamscores.csv\") \n",
    "assert df_studentexamscores_from_func.equals(df_studentexamscores_from_file) == True"
   ]
  },
  {
   "cell_type": "code",
   "execution_count": 11,
   "metadata": {
    "deletable": false,
    "nbgrader": {
     "cell_type": "code",
     "checksum": "3ae5ce5f6551716f7e1b558c1b4057b5",
     "grade": false,
     "grade_id": "cell-17758c8bf53f6fd1",
     "locked": false,
     "schema_version": 3,
     "solution": true,
     "task": false
    }
   },
   "outputs": [],
   "source": [
    "def ex1(df_exams):\n",
    "    \"\"\"\n",
    "    return df_exams sorted by year\n",
    "    \"\"\"\n",
    "    # YOUR CODE HERE\n",
    "    df_exams.sort_values(by = ['Year'], ascending = True, inplace = True)\n",
    "    df_exams.reset_index(drop = True, inplace = True)\n",
    "    return df_exams"
   ]
  },
  {
   "cell_type": "code",
   "execution_count": 12,
   "metadata": {
    "deletable": false,
    "editable": false,
    "nbgrader": {
     "cell_type": "code",
     "checksum": "41aafe008b5bff2858116dc13eaa7a2d",
     "grade": true,
     "grade_id": "cell-28f99a18b40f1a57",
     "locked": true,
     "points": 5,
     "schema_version": 3,
     "solution": false,
     "task": false
    }
   },
   "outputs": [],
   "source": [
    "df_exams = create_df_exams('non_normalized.db')\n",
    "df_exams = ex1(df_exams)\n",
    "df_exams.reset_index(drop=True, inplace=True)\n",
    "df_exams_from_file = pd.read_csv(\"ex1.csv\") \n",
    "assert df_exams.equals(df_exams_from_file) == True"
   ]
  },
  {
   "cell_type": "code",
   "execution_count": 13,
   "metadata": {
    "deletable": false,
    "nbgrader": {
     "cell_type": "code",
     "checksum": "d11eea96109271a3d524ffce4ca85069",
     "grade": false,
     "grade_id": "cell-dfa08f2e0a49cedc",
     "locked": false,
     "schema_version": 3,
     "solution": true,
     "task": false
    }
   },
   "outputs": [],
   "source": [
    "def ex2(df_students):\n",
    "    \"\"\"\n",
    "    return a df frame with the degree count\n",
    "    # NOTE -- rename name the degree column to Count!!!\n",
    "    \"\"\"\n",
    "    # YOUR CODE HERE\n",
    "    df = pd.DataFrame(df_students['Degree'].value_counts())\n",
    "    df.columns = [['Count']]\n",
    "    return df"
   ]
  },
  {
   "cell_type": "code",
   "execution_count": 14,
   "metadata": {
    "deletable": false,
    "editable": false,
    "nbgrader": {
     "cell_type": "code",
     "checksum": "5f9f9f59d45293b8e94f7a9b42f25ae4",
     "grade": true,
     "grade_id": "cell-0cefb360bf1bcf62",
     "locked": true,
     "points": 5,
     "schema_version": 3,
     "solution": false,
     "task": false
    }
   },
   "outputs": [],
   "source": [
    "df_students = create_df_students('non_normalized.db')\n",
    "df = ex2(df_students)\n",
    "df_file = pd.read_csv(\"ex2.csv\", index_col=0) \n",
    "df_file.columns = [['Count']]\n",
    "assert df.equals(df_file) == True"
   ]
  },
  {
   "cell_type": "code",
   "execution_count": 15,
   "metadata": {
    "deletable": false,
    "nbgrader": {
     "cell_type": "code",
     "checksum": "9537f52bd174db9dc0cc5846c4261737",
     "grade": false,
     "grade_id": "cell-0aa6c21ceeebf5f3",
     "locked": false,
     "schema_version": 3,
     "solution": true,
     "task": false
    }
   },
   "outputs": [],
   "source": [
    "def ex3(df_studentexamscores, df_exams):\n",
    "    \"\"\"\n",
    "    return a datafram that merges df_studentexamscores and df_exams and finds the average of the exams. Sort\n",
    "    the average in descending order. See screenshot below of the output. You have to fix up the column/index names.\n",
    "    Hints:\n",
    "    # https://stackoverflow.com/a/45451905\n",
    "    # https://stackoverflow.com/a/11346337\n",
    "    # round to two decimal places\n",
    "    \"\"\"\n",
    "\n",
    "    # YOUR CODE HERE\n",
    "    df = pd.merge(df_studentexamscores, df_exams, on = 'Exam')\n",
    "    df['average'] = df.groupby('Exam')['Score'].transform('mean').round(2)\n",
    "    df.drop_duplicates(['Exam'], inplace = True)\n",
    "    df.drop(['StudentID', 'Score'], axis = 1, inplace = True)\n",
    "    df.set_index('Exam', inplace = True)\n",
    "    df.sort_values(by = ['average'], ascending = False, inplace = True)\n",
    "    return df"
   ]
  },
  {
   "cell_type": "markdown",
   "metadata": {
    "deletable": false,
    "editable": false,
    "nbgrader": {
     "cell_type": "markdown",
     "checksum": "230851b0c6dc0c1b4941b9f04a1a3b6f",
     "grade": false,
     "grade_id": "cell-e59d982956341377",
     "locked": true,
     "schema_version": 3,
     "solution": false,
     "task": false
    }
   },
   "source": [
    "##### ex3 output:\n",
    "\n",
    "![ex3](ex3.png)\n",
    "\n"
   ]
  },
  {
   "cell_type": "code",
   "execution_count": 16,
   "metadata": {
    "deletable": false,
    "editable": false,
    "nbgrader": {
     "cell_type": "code",
     "checksum": "f8fde40d76cd90e6b04e3bd310e5d4fa",
     "grade": true,
     "grade_id": "cell-959005a0ad603cb4",
     "locked": true,
     "points": 5,
     "schema_version": 3,
     "solution": false,
     "task": false
    }
   },
   "outputs": [],
   "source": [
    "df_exams = create_df_exams('non_normalized.db')\n",
    "df_students = create_df_students('non_normalized.db')\n",
    "df_studentexamscores = create_df_studentexamscores('non_normalized.db', df_students)\n",
    "df_from_file = pd.read_csv(\"ex3.csv\", index_col=0) \n",
    "df_ex3 = ex3(df_studentexamscores, df_exams)\n",
    "assert df_ex3.equals(df_from_file) == True"
   ]
  },
  {
   "cell_type": "code",
   "execution_count": 17,
   "metadata": {
    "deletable": false,
    "nbgrader": {
     "cell_type": "code",
     "checksum": "fe9dc912f937321c851645cafbb6de09",
     "grade": false,
     "grade_id": "cell-aa279def76ac3568",
     "locked": false,
     "schema_version": 3,
     "solution": true,
     "task": false
    }
   },
   "outputs": [],
   "source": [
    "def ex4(df_studentexamscores, df_students):\n",
    "    \"\"\"\n",
    "    return a datafram that merges df_studentexamscores and df_exams and finds the average of the degrees. Sort\n",
    "    the average in descending order. See screenshot below of the output. You have to fix up the column/index names.\n",
    "    Hints:\n",
    "    # https://stackoverflow.com/a/45451905\n",
    "    # https://stackoverflow.com/a/11346337\n",
    "    # round to two decimal places\n",
    "    \"\"\"\n",
    "\n",
    "    # YOUR CODE HERE\n",
    "    df = pd.merge(df_students, df_studentexamscores, on = 'StudentID')\n",
    "    df['Average'] = df.groupby('Degree')['Score'].transform('mean').round(2)\n",
    "    df.drop_duplicates(['Degree'], inplace = True)\n",
    "    df.drop(['StudentID', 'Score', 'First_Name', 'Last_Name', 'Exam'], axis = 1, inplace = True)\n",
    "    df.set_index('Degree', inplace = True)\n",
    "    df.sort_values(by = ['Average'], ascending = False, inplace = True)\n",
    "    return df"
   ]
  },
  {
   "cell_type": "markdown",
   "metadata": {
    "deletable": false,
    "editable": false,
    "nbgrader": {
     "cell_type": "markdown",
     "checksum": "72febc8dcd348da322acd535e11e06a1",
     "grade": false,
     "grade_id": "cell-040f65650b53a021",
     "locked": true,
     "schema_version": 3,
     "solution": false,
     "task": false
    }
   },
   "source": [
    "##### ex4 output:\n",
    "\n",
    "![ex4](ex4.png)\n",
    "\n"
   ]
  },
  {
   "cell_type": "code",
   "execution_count": 18,
   "metadata": {
    "deletable": false,
    "editable": false,
    "nbgrader": {
     "cell_type": "code",
     "checksum": "c7c64621568bd02ede6c1aae008e7621",
     "grade": true,
     "grade_id": "cell-ee8203be02eddd6b",
     "locked": true,
     "points": 5,
     "schema_version": 3,
     "solution": false,
     "task": false
    }
   },
   "outputs": [],
   "source": [
    "df_exams = create_df_exams('non_normalized.db')\n",
    "df_students = create_df_students('non_normalized.db')\n",
    "df_studentexamscores = create_df_studentexamscores('non_normalized.db', df_students)\n",
    "df_ex4 = ex4(df_studentexamscores, df_students)\n",
    "df_from_file = pd.read_csv(\"ex4.csv\", index_col=0) \n",
    "assert df_ex4.equals(df_from_file) == True"
   ]
  },
  {
   "cell_type": "code",
   "execution_count": 19,
   "metadata": {
    "deletable": false,
    "nbgrader": {
     "cell_type": "code",
     "checksum": "e4dd34e33929c049d38a3cc851add5e8",
     "grade": false,
     "grade_id": "cell-fbc247a2b8634820",
     "locked": false,
     "schema_version": 3,
     "solution": true,
     "task": false
    }
   },
   "outputs": [],
   "source": [
    "def ex5(df_studentexamscores, df_students):   \n",
    "    \"\"\"\n",
    "    merge df_studentexamscores and df_students to produce the output below. The output shows the average of the top \n",
    "    10 students in descending order. \n",
    "    Hint: https://stackoverflow.com/a/20491748\n",
    "    round to two decimal places\n",
    "\n",
    "    \"\"\"\n",
    "    \n",
    "    # YOUR CODE HERE\n",
    "    df = pd.merge(df_studentexamscores, df_students, on = 'StudentID')\n",
    "    df['average'] = df.groupby('StudentID')['Score'].transform('mean').round(2)\n",
    "    df.drop_duplicates(['StudentID'], inplace = True)\n",
    "    df.drop(['StudentID', 'Exam', 'Score'], axis = 1, inplace = True)\n",
    "    df.sort_values(by = ['average'], ascending = False, inplace = True)\n",
    "    df.reset_index(drop = True, inplace = True)\n",
    "    df = df.head(10)\n",
    "    return df"
   ]
  },
  {
   "cell_type": "markdown",
   "metadata": {
    "deletable": false,
    "editable": false,
    "nbgrader": {
     "cell_type": "markdown",
     "checksum": "2c7c9b5b8fc29f5f7f803e5020fd8802",
     "grade": false,
     "grade_id": "cell-2a98c14a7c23b0ff",
     "locked": true,
     "schema_version": 3,
     "solution": false,
     "task": false
    }
   },
   "source": [
    "##### ex5 output:\n",
    "\n",
    "![ex5](ex5.png)\n",
    "\n"
   ]
  },
  {
   "cell_type": "code",
   "execution_count": 20,
   "metadata": {
    "deletable": false,
    "editable": false,
    "nbgrader": {
     "cell_type": "code",
     "checksum": "635c0a0edf70f4bac446b2f9c9ad0a18",
     "grade": true,
     "grade_id": "cell-79498174ccc41972",
     "locked": true,
     "points": 5,
     "schema_version": 3,
     "solution": false,
     "task": false
    }
   },
   "outputs": [],
   "source": [
    "df_students = create_df_students('non_normalized.db')\n",
    "df_studentexamscores = create_df_studentexamscores('non_normalized.db', df_students)\n",
    "df_ex5 = ex5(df_studentexamscores, df_students)\n",
    "df_from_file = pd.read_csv(\"ex5.csv\") \n",
    "assert df_from_file.values.tolist() == df_ex5.values.tolist()"
   ]
  },
  {
   "cell_type": "markdown",
   "metadata": {
    "deletable": false,
    "editable": false,
    "nbgrader": {
     "cell_type": "markdown",
     "checksum": "e5bdb50d34d67cb0354ac5ed8a520c2d",
     "grade": false,
     "grade_id": "cell-af54ec5a3554dd16",
     "locked": true,
     "schema_version": 3,
     "solution": false,
     "task": false
    }
   },
   "source": [
    "# Setup for Part 2 of Homework 7\n",
    "\n",
    "In the previous homework I supplied the data for analysis. In this homework, you will generate the data and then analyze it using Pandas. You will be generating a grade sheet with 100 students, 5 homework and 4 exams. You will manipulate this grade sheet using Pandas. I will walk you through all the steps. You will be using Faker https://faker.readthedocs.io/en/master/ to generate student names."
   ]
  },
  {
   "cell_type": "code",
   "execution_count": 21,
   "metadata": {
    "deletable": false,
    "editable": false,
    "nbgrader": {
     "cell_type": "code",
     "checksum": "5699cce78c297af1346b2c6d4cddf1ee",
     "grade": false,
     "grade_id": "cell-2bb257915ca258ed",
     "locked": true,
     "schema_version": 3,
     "solution": false,
     "task": false
    }
   },
   "outputs": [],
   "source": [
    "# DO NOT MODIFY THIS CELL OR THE SEED\n",
    "\n",
    "# THIS CELL IMPORTS ALL THE LIBRARIES YOU NEED!!!\n",
    "\n",
    "import numpy as np\n",
    "import pandas as pd\n",
    "from faker import Faker\n",
    "\n",
    "np.random.seed(0)\n",
    "fake = Faker()\n",
    "Faker.seed(0)"
   ]
  },
  {
   "cell_type": "markdown",
   "metadata": {
    "deletable": false,
    "editable": false,
    "nbgrader": {
     "cell_type": "markdown",
     "checksum": "4d127ccf040855b2cb28cd0184ebf0fb",
     "grade": false,
     "grade_id": "cell-fdc24a9ea0acf1a5",
     "locked": true,
     "schema_version": 3,
     "solution": false,
     "task": false
    }
   },
   "source": [
    "# Part 2 -- Step 1 Generate 100 usernames, first_names, last_names\n",
    " \n",
    "- You need to generate a grade sheet with 100 students, 5 homework and 4 exams. \n",
    "- To generate the 100 fake students, use `fake.name()` 100 hundred times. Split the name into first and last name; remember to only split on the first space!!! Generate a username, which will be the first 2 letters of the first name (lowercase) and 4 random digits using `np.random.randint(1000,9999)`. Create a Pandas dataframe with username, first_name, and last_name. \n",
    "- return the dataframe \n",
    "- Should look like this\n",
    "\n",
    "![part2_step1](part2_step1.png)"
   ]
  },
  {
   "cell_type": "code",
   "execution_count": 22,
   "metadata": {
    "deletable": false,
    "nbgrader": {
     "cell_type": "code",
     "checksum": "a8915937a99b089304a86dbd8105d49a",
     "grade": false,
     "grade_id": "cell-7756fc1eb38c15c9",
     "locked": false,
     "schema_version": 3,
     "solution": true,
     "task": false
    }
   },
   "outputs": [],
   "source": [
    "def part2_step1():\n",
    "\n",
    "    # ---- DO NOT CHANGE\n",
    "    np.random.seed(0)\n",
    "    fake = Faker()\n",
    "    Faker.seed(0)\n",
    "    # ---- DO NOT CHANGE\n",
    "\n",
    "    # YOUR CODE HERE\n",
    "    temp = []\n",
    "    for _ in range(100):\n",
    "        full_name = fake.name().split(' ', 1)\n",
    "        temp.append({'username': full_name[0][0:2].lower() + str(np.random.randint(1000,9999)),\n",
    "                     'first_name': full_name[0],\n",
    "                    'last_name': full_name[1]})\n",
    "    return pd.DataFrame(temp)"
   ]
  },
  {
   "cell_type": "code",
   "execution_count": 23,
   "metadata": {
    "deletable": false,
    "editable": false,
    "nbgrader": {
     "cell_type": "code",
     "checksum": "b74a18e9856ddff629ccffa1efc4bf38",
     "grade": true,
     "grade_id": "cell-de1b448057f0e35a",
     "locked": true,
     "points": 5,
     "schema_version": 3,
     "solution": false,
     "task": false
    }
   },
   "outputs": [],
   "source": [
    "df2_students = part2_step1()\n",
    "df2_from_file = pd.read_csv(\"part2_step1.csv\") \n",
    "assert df2_from_file.values.tolist() == df2_students.values.tolist()"
   ]
  },
  {
   "cell_type": "markdown",
   "metadata": {
    "deletable": false,
    "editable": false,
    "nbgrader": {
     "cell_type": "markdown",
     "checksum": "43dac3b810bbbcbb0b517691db6779f3",
     "grade": false,
     "grade_id": "cell-a045e7e0b80f9637",
     "locked": true,
     "schema_version": 3,
     "solution": false,
     "task": false
    }
   },
   "source": [
    "# Part 2 -- Step 2 Generate 5 homework and 4 exams\n",
    " \n",
    "- You need to generate 5 homework and 4 exams scores using the mu (mean), sigma (std), and max score in the following table\n",
    "\n",
    "\n",
    "| Name  | mu | sigma | max score |\n",
    "|-------|----|-------|-----------|\n",
    "| Hw1   | 35 | 9     | 50        |\n",
    "| Hw2   | 75 | 15    | 100       |\n",
    "| Hw3   | 25 | 7     | 40        |\n",
    "| Hw4   | 45 | 10    | 60        |\n",
    "| Hw5   | 45 | 5     | 50        |\n",
    "| Exam1 | 75 | 20    | 100       |\n",
    "| Exam2 | 25 | 8     | 50        |\n",
    "| Exam3 | 45 | 9     | 60        |\n",
    "| Exam4 | 35 | 10    | 50        |\n",
    "\n",
    "\n",
    "\n",
    "- Use `np.random.normal` to generate the normally distributed scores for all homework and exams.\n",
    "- Round the scores\n",
    "- Clip the scores to be between 0 and the max score using `np.clip`\n",
    "- Create an pandas dataframe and return it\n",
    "- Should look like this\n",
    "\n",
    "![part2_step2](part2_step2.png)\n",
    "\n",
    "\n",
    "- Describe looks like this \n",
    "\n",
    "![part2_step2_2](part2_step2_2.png)"
   ]
  },
  {
   "cell_type": "code",
   "execution_count": 24,
   "metadata": {
    "deletable": false,
    "nbgrader": {
     "cell_type": "code",
     "checksum": "d4a33de6e8f0836ae1332faf23ddfcda",
     "grade": false,
     "grade_id": "cell-77753c8ce145757b",
     "locked": false,
     "schema_version": 3,
     "solution": true,
     "task": false
    }
   },
   "outputs": [],
   "source": [
    "def part2_step2():\n",
    "\n",
    "    # ---- DO NOT CHANGE\n",
    "    np.random.seed(0)\n",
    "    # ---- DO NOT CHANGE\n",
    "\n",
    "    # YOUR CODE HERE\n",
    "    mean = [35, 75, 25, 45, 45, 75, 25, 45, 35]\n",
    "    stdev = [9, 15, 7, 10, 5, 20, 8, 9, 10]\n",
    "    max_score = [50, 100, 40, 60, 50, 100, 50, 60, 50]\n",
    "    \n",
    "    hw = []\n",
    "    exam = []\n",
    "    \n",
    "    for i in range(5):\n",
    "        hw.append(list(np.clip(np.random.normal(mean[i],\n",
    "                                                stdev[i],\n",
    "                                                100), 0, max_score[i])))\n",
    "        hw[i] = [round(ele, 0) for ele in hw[i]]\n",
    "    \n",
    "    for j in range(4):\n",
    "        exam.append(list(np.clip(np.random.normal(mean[j + 5],\n",
    "                                                  stdev[j + 5],\n",
    "                                                  100), 0, max_score[j + 5])))\n",
    "        exam[j] = [round(ele, 0) for ele in exam[j]]\n",
    "        \n",
    "    return pd.DataFrame({'Hw1': hw[0], 'Hw2': hw[1], 'Hw3': hw[2], 'Hw4': hw[3], 'Hw5': hw[4],\n",
    "                         'Exam1': exam[0], 'Exam2': exam[1], 'Exam3': exam[2], 'Exam4': exam[3]})"
   ]
  },
  {
   "cell_type": "code",
   "execution_count": 25,
   "metadata": {
    "deletable": false,
    "editable": false,
    "nbgrader": {
     "cell_type": "code",
     "checksum": "5be08894eea035bcf129c69ca0b80c1f",
     "grade": true,
     "grade_id": "cell-455b1a052748cc2e",
     "locked": true,
     "points": 5,
     "schema_version": 3,
     "solution": false,
     "task": false
    }
   },
   "outputs": [],
   "source": [
    "df2_scores = part2_step2()\n",
    "df2_from_file = pd.read_csv(\"part2_step2.csv\") \n",
    "assert df2_from_file.values.tolist() == df2_scores.values.tolist()"
   ]
  },
  {
   "cell_type": "markdown",
   "metadata": {
    "deletable": false,
    "editable": false,
    "nbgrader": {
     "cell_type": "markdown",
     "checksum": "298329097632e63393252f596f1ea3b3",
     "grade": false,
     "grade_id": "cell-c4c1a350dbde9f7a",
     "locked": true,
     "schema_version": 3,
     "solution": false,
     "task": false
    }
   },
   "source": [
    "# Part 2 -- Step 3 Compare mean and std between theoretical and generated scores \n",
    " \n",
    "- In the last step you generated scores using the following table\n",
    "| Name  | mu | sigma | max score |\n",
    "|-------|----|-------|-----------|\n",
    "| Hw1   | 35 | 9     | 50        |\n",
    "| Hw2   | 75 | 15    | 100       |\n",
    "| Hw3   | 25 | 7     | 40        |\n",
    "| Hw4   | 45 | 10    | 60        |\n",
    "| Hw5   | 45 | 5     | 50        |\n",
    "| Exam1 | 75 | 20    | 100       |\n",
    "| Exam2 | 25 | 8     | 50        |\n",
    "| Exam3 | 45 | 9     | 60        |\n",
    "| Exam4 | 35 | 10    | 50        |\n",
    "\n",
    "\n",
    "- In this section, extract the mean and std from `describe()` and compare it against the theoretical mean and std. Round the difference to two decimal places. \n",
    "- Make sure to round the describe() to two decimal places. \n",
    "- Return the dataframe\n",
    "- The dataframe should look like this \n",
    "\n",
    "![part2_step3](part2_step3_1.png)\n",
    "\n",
    "- NOTE: Just use `df2_scores` inside your function since it is \"available\" outside your function"
   ]
  },
  {
   "cell_type": "code",
   "execution_count": 26,
   "metadata": {
    "deletable": false,
    "nbgrader": {
     "cell_type": "code",
     "checksum": "cd04aff7a0f762af4d47c7358af38464",
     "grade": false,
     "grade_id": "cell-523355395e13aae8",
     "locked": false,
     "schema_version": 3,
     "solution": true,
     "task": false
    }
   },
   "outputs": [],
   "source": [
    "def part2_step3():\n",
    "    # YOUR CODE HERE\n",
    "    df = df2_scores.describe().iloc[1:3].transpose()\n",
    "    df['std'] = df['std'].round(2)\n",
    "    df.insert(2, 'mean_theoretical', [35, 75, 25, 45, 45, 75, 25, 45, 35])\n",
    "    df.insert(3, 'std_theoretical', [9, 15, 7, 10, 5, 20, 8, 9, 10])\n",
    "    df['abs_mean_diff'] = abs(df['mean'] - df['mean_theoretical']).round(2)\n",
    "    df['abs_std_diff'] = abs(df['std'] - df['std_theoretical']).round(2)\n",
    "    return df"
   ]
  },
  {
   "cell_type": "code",
   "execution_count": 27,
   "metadata": {
    "deletable": false,
    "editable": false,
    "nbgrader": {
     "cell_type": "code",
     "checksum": "c84da26c9741f01ec8218d71591d945f",
     "grade": true,
     "grade_id": "cell-aff4914f5561ba20",
     "locked": true,
     "points": 5,
     "schema_version": 3,
     "solution": false,
     "task": false
    }
   },
   "outputs": [],
   "source": [
    "df2_compare = part2_step3()\n",
    "df2_from_file = pd.read_csv(\"part2_step3.csv\", index_col=0) \n",
    "assert df2_from_file.values.tolist() == df2_compare.values.tolist()"
   ]
  },
  {
   "cell_type": "markdown",
   "metadata": {
    "deletable": false,
    "editable": false,
    "nbgrader": {
     "cell_type": "markdown",
     "checksum": "377bb96394e58b29d21f5e875a1b0de5",
     "grade": false,
     "grade_id": "cell-227496cec4706a75",
     "locked": true,
     "schema_version": 3,
     "solution": false,
     "task": false
    }
   },
   "source": [
    "# Part 2 -- Step 4 Combine student df with scores df and calculate scaled score\n",
    " \n",
    "- Scale `df2_scores` (raw_score/max_score)*100 and round it and combine with `df2_students`\n",
    "- Max grade is given in the following table\n",
    "| Name  | max score |\n",
    "|-------|-----------|\n",
    "| Hw1   | 50        |\n",
    "| Hw2   | 100       |\n",
    "| Hw3   | 40        |\n",
    "| Hw4   | 60        |\n",
    "| Hw5   | 50        |\n",
    "| Exam1 | 100       |\n",
    "| Exam2 | 50        |\n",
    "| Exam3 | 60        |\n",
    "| Exam4 | 50        |\n",
    "- Return DF\n",
    "- Dataframe should look like this \n",
    "\n",
    "![part2_step4](part2_step4.png)\n",
    "\n",
    "NOTE: both `df2_students` and `df_scores` should be available inside your function. "
   ]
  },
  {
   "cell_type": "code",
   "execution_count": 28,
   "metadata": {
    "deletable": false,
    "nbgrader": {
     "cell_type": "code",
     "checksum": "e1e76cf37021b6379d6b39a717a6c08e",
     "grade": false,
     "grade_id": "cell-aa405997839148d8",
     "locked": false,
     "schema_version": 3,
     "solution": true,
     "task": false
    }
   },
   "outputs": [],
   "source": [
    "def part2_step4():\n",
    "    # YOUR CODE HERE\n",
    "    score_max = {'Hw1': 50, 'Hw2': 100, 'Hw3': 40, 'Hw4': 60, 'Hw5': 50, 'Exam1': 100, 'Exam2': 50, 'Exam3': 60, 'Exam4': 50}\n",
    "    \n",
    "    df = df2_students.join(df2_scores)\n",
    "    \n",
    "    for i in range(9):\n",
    "        df[list(score_max)[i]] = (df[list(score_max)[i]] / score_max.get(list(score_max)[i])) * 100\n",
    "        df[list(score_max)[i]] = df[list(score_max)[i]].round(0)\n",
    "        \n",
    "    return df"
   ]
  },
  {
   "cell_type": "code",
   "execution_count": 29,
   "metadata": {
    "deletable": false,
    "editable": false,
    "nbgrader": {
     "cell_type": "code",
     "checksum": "6b19164169182244395550d01d9d855e",
     "grade": true,
     "grade_id": "cell-dcb6cb0e2aa86735",
     "locked": true,
     "points": 5,
     "schema_version": 3,
     "solution": false,
     "task": false
    }
   },
   "outputs": [],
   "source": [
    "df2_score_sheet = part2_step4()\n",
    "df2_from_file = pd.read_csv(\"part2_step4.csv\") \n",
    "assert df2_from_file.values.tolist() == df2_score_sheet.values.tolist()"
   ]
  },
  {
   "cell_type": "markdown",
   "metadata": {
    "deletable": false,
    "editable": false,
    "nbgrader": {
     "cell_type": "markdown",
     "checksum": "2570f2dcd3738f84f18523a9662b9b5a",
     "grade": false,
     "grade_id": "cell-4d62a114b4d6181f",
     "locked": true,
     "schema_version": 3,
     "solution": false,
     "task": false
    }
   },
   "source": [
    "# Part 2 -- Step 5 Find all students with Academic Integrity (AI) Issues \n",
    " \n",
    "- Open up `part2_step5-input.csv` file. This has the same data as the last step except that I have added some `AI_ISSUE` values and removed some values. When you read in this csv file, you will see some `AI_ISSUE` text and some empty columns, which will be `NaN` in the dataframe. \n",
    "- NOTE -- the first student has all 100s for sanity check.\n",
    "- NOTE -- the second student has a missing homework and exam for checking your calculations. \n",
    "- You need to find all the students that have AI issues. The dataframe should contain username, first_name, last_name, and column called `AI_count`. Make sure to reset the index\n",
    "- It should look like this \n",
    "\n",
    "![part2_step5](part2_step5_1.png)\n",
    "\n"
   ]
  },
  {
   "cell_type": "code",
   "execution_count": 30,
   "metadata": {
    "deletable": false,
    "nbgrader": {
     "cell_type": "code",
     "checksum": "97329ed56a88ef4eb2b56b0807c0a859",
     "grade": false,
     "grade_id": "cell-b097d530e308bb51",
     "locked": false,
     "schema_version": 3,
     "solution": true,
     "task": false
    }
   },
   "outputs": [],
   "source": [
    "def part2_step5():\n",
    "    # YOUR CODE HERE\n",
    "    df = pd.read_csv('part2_step5-input.csv')\n",
    "    col_names = [col for col in df][3:]\n",
    "    AI_Count = []\n",
    "    \n",
    "    for i in range(df.shape[0]):\n",
    "        temp = 0\n",
    "        for j in col_names:\n",
    "            if df[j][i] == 'AI_ISSUE':\n",
    "                temp += 1\n",
    "        AI_Count.append(temp)\n",
    "    \n",
    "    df.insert(4, 'AI_Count', AI_Count)\n",
    "    df.drop(columns = ['Hw1', 'Hw2', 'Hw3', 'Hw4', 'Hw5', 'Exam1', 'Exam2', 'Exam3', 'Exam4'], inplace = True)\n",
    "    df = df[df['AI_Count'] > 0].reset_index(drop = True)\n",
    "    \n",
    "    return df"
   ]
  },
  {
   "cell_type": "code",
   "execution_count": 31,
   "metadata": {
    "deletable": false,
    "editable": false,
    "nbgrader": {
     "cell_type": "code",
     "checksum": "37f4cd54bc0b1ab876f93af2d67f18c0",
     "grade": true,
     "grade_id": "cell-7d5dbc70c8770f37",
     "locked": true,
     "points": 5,
     "schema_version": 3,
     "solution": false,
     "task": false
    }
   },
   "outputs": [],
   "source": [
    "df2_ai = part2_step5()\n",
    "df2_from_file = pd.read_csv(\"part2_step5.csv\", index_col=0) \n",
    "assert df2_from_file.values.tolist() == df2_ai.values.tolist()"
   ]
  },
  {
   "cell_type": "markdown",
   "metadata": {
    "deletable": false,
    "editable": false,
    "nbgrader": {
     "cell_type": "markdown",
     "checksum": "593c8fc92f9d5d28c1845e27ea0fd5e8",
     "grade": false,
     "grade_id": "cell-39811274130d3f49",
     "locked": true,
     "schema_version": 3,
     "solution": false,
     "task": false
    }
   },
   "source": [
    "# Part 2 -- Step 6 \n",
    " \n",
    "- Open up `part2_step5-input.csv` file. This has the same data as the last step except that I have added some `AI_ISSUES` values and removed some values, meaning the student did not submit the homework or take the exam. When you read in this csv file, you will see some `AI_ISSUES` text and some empty columns, which will be `NaN` in the dataframe. \n",
    "\n",
    "- Do the following steps in order\n",
    "1. Replace all `AI_ISSUE` text with 0.\n",
    "1. For any missing homework, replace it with the average of the student's other homework\n",
    "1. For any missing exam, replace it with the average of the student's other exams. \n",
    "1. When doing the above two steps, convert the homework and exam columns to float using them to calcuate the mean or std `.astype('float')`\n",
    "1. Create a `Grade` column that calculates the grade. Each homework is worth 5% and each exam1-3 are worth 20% and exam4 is worth 15%. Don't forget to Round!\n",
    "1. Create a `LetterGrade` column that maps the grade to a letter Grade using apply(); \n",
    "80>=A\n",
    "70>=B\n",
    "50>=C\n",
    "40>=D\n",
    "40<F\n",
    "1. Append a `mean` row to the dataframe; hint you have to name your series.  Round!\n",
    "1. Append a `std` row to the dataframe; hint you have to name your series. Round!\n",
    "1. Return the dataframe\n",
    "     \n",
    "- HINT: Row two has a missing exam and homework. Use it to verify your calculations. \n",
    "\n",
    "- It should look like this \n",
    "\n",
    "![part2_step6](part2_step6_3.png)\n",
    "\n"
   ]
  },
  {
   "cell_type": "code",
   "execution_count": 32,
   "metadata": {
    "deletable": false,
    "nbgrader": {
     "cell_type": "code",
     "checksum": "be657f02a129f3b77e59525478e3daec",
     "grade": false,
     "grade_id": "cell-4c2358c696feef89",
     "locked": false,
     "schema_version": 3,
     "solution": true,
     "task": false
    }
   },
   "outputs": [
    {
     "data": {
      "text/html": [
       "<div>\n",
       "<style scoped>\n",
       "    .dataframe tbody tr th:only-of-type {\n",
       "        vertical-align: middle;\n",
       "    }\n",
       "\n",
       "    .dataframe tbody tr th {\n",
       "        vertical-align: top;\n",
       "    }\n",
       "\n",
       "    .dataframe thead th {\n",
       "        text-align: right;\n",
       "    }\n",
       "</style>\n",
       "<table border=\"1\" class=\"dataframe\">\n",
       "  <thead>\n",
       "    <tr style=\"text-align: right;\">\n",
       "      <th></th>\n",
       "      <th>username</th>\n",
       "      <th>first_name</th>\n",
       "      <th>last_name</th>\n",
       "      <th>Hw1</th>\n",
       "      <th>Hw2</th>\n",
       "      <th>Hw3</th>\n",
       "      <th>Hw4</th>\n",
       "      <th>Hw5</th>\n",
       "      <th>Exam1</th>\n",
       "      <th>Exam2</th>\n",
       "      <th>Exam3</th>\n",
       "      <th>Exam4</th>\n",
       "      <th>Grade</th>\n",
       "      <th>LetterGrade</th>\n",
       "    </tr>\n",
       "  </thead>\n",
       "  <tbody>\n",
       "    <tr>\n",
       "      <th>0</th>\n",
       "      <td>no3732</td>\n",
       "      <td>Norma</td>\n",
       "      <td>Fisher</td>\n",
       "      <td>100.0</td>\n",
       "      <td>100.0</td>\n",
       "      <td>100.0</td>\n",
       "      <td>100.0</td>\n",
       "      <td>100.0</td>\n",
       "      <td>100.0</td>\n",
       "      <td>100.0</td>\n",
       "      <td>100.0</td>\n",
       "      <td>100.0</td>\n",
       "      <td>100.0</td>\n",
       "      <td>A</td>\n",
       "    </tr>\n",
       "    <tr>\n",
       "      <th>1</th>\n",
       "      <td>jo4264</td>\n",
       "      <td>Jorge</td>\n",
       "      <td>Sullivan</td>\n",
       "      <td>78.0</td>\n",
       "      <td>78.0</td>\n",
       "      <td>57.0</td>\n",
       "      <td>100.0</td>\n",
       "      <td>78.0</td>\n",
       "      <td>74.0</td>\n",
       "      <td>56.0</td>\n",
       "      <td>72.0</td>\n",
       "      <td>86.0</td>\n",
       "      <td>73.0</td>\n",
       "      <td>B</td>\n",
       "    </tr>\n",
       "    <tr>\n",
       "      <th>2</th>\n",
       "      <td>el5859</td>\n",
       "      <td>Elizabeth</td>\n",
       "      <td>Woods</td>\n",
       "      <td>88.0</td>\n",
       "      <td>0.0</td>\n",
       "      <td>82.0</td>\n",
       "      <td>73.0</td>\n",
       "      <td>98.0</td>\n",
       "      <td>97.0</td>\n",
       "      <td>0.0</td>\n",
       "      <td>63.0</td>\n",
       "      <td>68.0</td>\n",
       "      <td>59.0</td>\n",
       "      <td>C</td>\n",
       "    </tr>\n",
       "    <tr>\n",
       "      <th>3</th>\n",
       "      <td>su8891</td>\n",
       "      <td>Susan</td>\n",
       "      <td>Wagner</td>\n",
       "      <td>100.0</td>\n",
       "      <td>90.0</td>\n",
       "      <td>75.0</td>\n",
       "      <td>63.0</td>\n",
       "      <td>94.0</td>\n",
       "      <td>70.0</td>\n",
       "      <td>54.0</td>\n",
       "      <td>92.0</td>\n",
       "      <td>62.0</td>\n",
       "      <td>74.0</td>\n",
       "      <td>B</td>\n",
       "    </tr>\n",
       "    <tr>\n",
       "      <th>4</th>\n",
       "      <td>pe5373</td>\n",
       "      <td>Peter</td>\n",
       "      <td>Montgomery</td>\n",
       "      <td>100.0</td>\n",
       "      <td>83.0</td>\n",
       "      <td>72.0</td>\n",
       "      <td>87.0</td>\n",
       "      <td>72.0</td>\n",
       "      <td>68.0</td>\n",
       "      <td>78.0</td>\n",
       "      <td>78.0</td>\n",
       "      <td>88.0</td>\n",
       "      <td>79.0</td>\n",
       "      <td>B</td>\n",
       "    </tr>\n",
       "    <tr>\n",
       "      <th>...</th>\n",
       "      <td>...</td>\n",
       "      <td>...</td>\n",
       "      <td>...</td>\n",
       "      <td>...</td>\n",
       "      <td>...</td>\n",
       "      <td>...</td>\n",
       "      <td>...</td>\n",
       "      <td>...</td>\n",
       "      <td>...</td>\n",
       "      <td>...</td>\n",
       "      <td>...</td>\n",
       "      <td>...</td>\n",
       "      <td>...</td>\n",
       "      <td>...</td>\n",
       "    </tr>\n",
       "    <tr>\n",
       "      <th>97</th>\n",
       "      <td>mi1307</td>\n",
       "      <td>Michael</td>\n",
       "      <td>Simmons</td>\n",
       "      <td>100.0</td>\n",
       "      <td>87.0</td>\n",
       "      <td>72.0</td>\n",
       "      <td>93.0</td>\n",
       "      <td>84.0</td>\n",
       "      <td>71.0</td>\n",
       "      <td>38.0</td>\n",
       "      <td>0.0</td>\n",
       "      <td>40.0</td>\n",
       "      <td>50.0</td>\n",
       "      <td>C</td>\n",
       "    </tr>\n",
       "    <tr>\n",
       "      <th>98</th>\n",
       "      <td>ni6302</td>\n",
       "      <td>Nicholas</td>\n",
       "      <td>Kline</td>\n",
       "      <td>72.0</td>\n",
       "      <td>100.0</td>\n",
       "      <td>55.0</td>\n",
       "      <td>100.0</td>\n",
       "      <td>80.0</td>\n",
       "      <td>56.0</td>\n",
       "      <td>54.0</td>\n",
       "      <td>68.0</td>\n",
       "      <td>100.0</td>\n",
       "      <td>71.0</td>\n",
       "      <td>B</td>\n",
       "    </tr>\n",
       "    <tr>\n",
       "      <th>99</th>\n",
       "      <td>lo2152</td>\n",
       "      <td>Lori</td>\n",
       "      <td>Bennett</td>\n",
       "      <td>78.0</td>\n",
       "      <td>95.0</td>\n",
       "      <td>70.0</td>\n",
       "      <td>0.0</td>\n",
       "      <td>90.0</td>\n",
       "      <td>71.0</td>\n",
       "      <td>68.0</td>\n",
       "      <td>63.0</td>\n",
       "      <td>62.0</td>\n",
       "      <td>66.0</td>\n",
       "      <td>C</td>\n",
       "    </tr>\n",
       "    <tr>\n",
       "      <th>mean</th>\n",
       "      <td>NaN</td>\n",
       "      <td>NaN</td>\n",
       "      <td>NaN</td>\n",
       "      <td>70.0</td>\n",
       "      <td>76.0</td>\n",
       "      <td>61.0</td>\n",
       "      <td>69.0</td>\n",
       "      <td>89.0</td>\n",
       "      <td>69.0</td>\n",
       "      <td>48.0</td>\n",
       "      <td>71.0</td>\n",
       "      <td>69.0</td>\n",
       "      <td>66.0</td>\n",
       "      <td>NaN</td>\n",
       "    </tr>\n",
       "    <tr>\n",
       "      <th>std</th>\n",
       "      <td>NaN</td>\n",
       "      <td>NaN</td>\n",
       "      <td>NaN</td>\n",
       "      <td>18.0</td>\n",
       "      <td>16.0</td>\n",
       "      <td>18.0</td>\n",
       "      <td>19.0</td>\n",
       "      <td>10.0</td>\n",
       "      <td>22.0</td>\n",
       "      <td>19.0</td>\n",
       "      <td>19.0</td>\n",
       "      <td>17.0</td>\n",
       "      <td>8.0</td>\n",
       "      <td>NaN</td>\n",
       "    </tr>\n",
       "  </tbody>\n",
       "</table>\n",
       "<p>102 rows × 14 columns</p>\n",
       "</div>"
      ],
      "text/plain": [
       "     username first_name   last_name    Hw1    Hw2    Hw3    Hw4    Hw5  \\\n",
       "0      no3732      Norma      Fisher  100.0  100.0  100.0  100.0  100.0   \n",
       "1      jo4264      Jorge    Sullivan   78.0   78.0   57.0  100.0   78.0   \n",
       "2      el5859  Elizabeth       Woods   88.0    0.0   82.0   73.0   98.0   \n",
       "3      su8891      Susan      Wagner  100.0   90.0   75.0   63.0   94.0   \n",
       "4      pe5373      Peter  Montgomery  100.0   83.0   72.0   87.0   72.0   \n",
       "...       ...        ...         ...    ...    ...    ...    ...    ...   \n",
       "97     mi1307    Michael     Simmons  100.0   87.0   72.0   93.0   84.0   \n",
       "98     ni6302   Nicholas       Kline   72.0  100.0   55.0  100.0   80.0   \n",
       "99     lo2152       Lori     Bennett   78.0   95.0   70.0    0.0   90.0   \n",
       "mean      NaN        NaN         NaN   70.0   76.0   61.0   69.0   89.0   \n",
       "std       NaN        NaN         NaN   18.0   16.0   18.0   19.0   10.0   \n",
       "\n",
       "      Exam1  Exam2  Exam3  Exam4  Grade LetterGrade  \n",
       "0     100.0  100.0  100.0  100.0  100.0           A  \n",
       "1      74.0   56.0   72.0   86.0   73.0           B  \n",
       "2      97.0    0.0   63.0   68.0   59.0           C  \n",
       "3      70.0   54.0   92.0   62.0   74.0           B  \n",
       "4      68.0   78.0   78.0   88.0   79.0           B  \n",
       "...     ...    ...    ...    ...    ...         ...  \n",
       "97     71.0   38.0    0.0   40.0   50.0           C  \n",
       "98     56.0   54.0   68.0  100.0   71.0           B  \n",
       "99     71.0   68.0   63.0   62.0   66.0           C  \n",
       "mean   69.0   48.0   71.0   69.0   66.0         NaN  \n",
       "std    22.0   19.0   19.0   17.0    8.0         NaN  \n",
       "\n",
       "[102 rows x 14 columns]"
      ]
     },
     "execution_count": 32,
     "metadata": {},
     "output_type": "execute_result"
    }
   ],
   "source": [
    "def part2_step6():\n",
    "    # YOUR CODE HERE\n",
    "    df = pd.read_csv('part2_step5-input.csv')\n",
    "    \n",
    "    # Step 1\n",
    "    temp = ['Hw1', 'Hw2', 'Hw3', 'Hw4', 'Hw5', 'Exam1', 'Exam2', 'Exam3', 'Exam4']\n",
    "    for i in temp:\n",
    "        df[i] = df[i].replace('AI_ISSUE', 0)\n",
    "        \n",
    "    # Step 2 & 4   \n",
    "    for i in range(5):\n",
    "        df[temp[i]] = df[temp[i]].astype(float)\n",
    "    \n",
    "    for i in range(5):\n",
    "        df[temp[i]].fillna(df[['Hw1', 'Hw2', 'Hw3', 'Hw4', 'Hw5']].mean(axis = 1).round(0), inplace = True)\n",
    "        df[temp[i]] = df[temp[i]].astype(float)\n",
    "    \n",
    "    # Step 3 & 4\n",
    "    for i in range(4):\n",
    "        df[temp[5 + i]] = df[temp[5 + i]].astype(float)\n",
    "    \n",
    "    for i in range(4):\n",
    "        df[temp[5 + i]].fillna(df[['Exam1', 'Exam2', 'Exam3', 'Exam4']].mean(axis = 1).round(0), inplace = True)\n",
    "        df[temp[5 + i]] = df[temp[5 + i]].astype(float)\n",
    "    \n",
    "    # Step 5\n",
    "    df['Grade'] = (df['Hw1'] + df['Hw2'] + df['Hw3'] + df['Hw4'] + df['Hw5']) * 0.05 + (df['Exam1'] + df['Exam2'] + df['Exam3']) * 0.2 + df['Exam4'] * 0.15\n",
    "    df['Grade'] = df['Grade'].round(0)\n",
    "    \n",
    "    # Step 6\n",
    "    df['LetterGrade'] = df['Grade'].apply(lambda x: 'A' if x >= 80 else ('B' if x >= 70 else ('C' if x >= 50 else ('D' if x >= 40  else 'F'))))\n",
    "    \n",
    "    # Step 7\n",
    "    df.loc['mean'] = df[0:100].mean(numeric_only = True).round(0)\n",
    "    \n",
    "    # Step 8\n",
    "    df.loc['std'] = df[0:100].std(numeric_only = True).round(0)\n",
    "    \n",
    "    return df\n",
    "\n",
    "part2_step6()"
   ]
  },
  {
   "cell_type": "code",
   "execution_count": 33,
   "metadata": {
    "deletable": false,
    "editable": false,
    "nbgrader": {
     "cell_type": "code",
     "checksum": "ffc12aac2688267d70283a5f1d4084bd",
     "grade": true,
     "grade_id": "cell-aa236cc10b6e34e6",
     "locked": true,
     "points": 20,
     "schema_version": 3,
     "solution": false,
     "task": false
    }
   },
   "outputs": [],
   "source": [
    "df_grade = part2_step6()\n",
    "df2_from_file = pd.read_csv(\"part2_step6.csv\", index_col=0) \n",
    "assert df2_from_file.values.tolist() == df_grade.values.tolist()"
   ]
  },
  {
   "cell_type": "code",
   "execution_count": 34,
   "metadata": {
    "deletable": false,
    "editable": false,
    "nbgrader": {
     "cell_type": "code",
     "checksum": "8a3ad203ad421ac428ed1326728e26b3",
     "grade": false,
     "grade_id": "cell-4c19506133e85011",
     "locked": true,
     "schema_version": 3,
     "solution": false,
     "task": false
    }
   },
   "outputs": [
    {
     "data": {
      "text/plain": [
       "<AxesSubplot:>"
      ]
     },
     "execution_count": 34,
     "metadata": {},
     "output_type": "execute_result"
    },
    {
     "data": {
      "image/png": "[encoded data removed]",
      "text/plain": [
       "<Figure size 432x288 with 1 Axes>"
      ]
     },
     "metadata": {
      "needs_background": "light"
     },
     "output_type": "display_data"
    }
   ],
   "source": [
    "df_grade['Grade'].hist()"
   ]
  },
  {
   "cell_type": "code",
   "execution_count": 35,
   "metadata": {
    "deletable": false,
    "editable": false,
    "nbgrader": {
     "cell_type": "code",
     "checksum": "7b4b990e3337518d4cc1991b2e341932",
     "grade": false,
     "grade_id": "cell-d7c9e87adf431cd3",
     "locked": true,
     "schema_version": 3,
     "solution": false,
     "task": false
    }
   },
   "outputs": [
    {
     "data": {
      "text/plain": [
       "<AxesSubplot:>"
      ]
     },
     "execution_count": 35,
     "metadata": {},
     "output_type": "execute_result"
    },
    {
     "data": {
      "image/png": "[encoded data removed]",
      "text/plain": [
       "<Figure size 432x288 with 1 Axes>"
      ]
     },
     "metadata": {
      "needs_background": "light"
     },
     "output_type": "display_data"
    }
   ],
   "source": [
    "df_grade['LetterGrade'].hist()"
   ]
  }
 ],
 "metadata": {
  "kernelspec": {
   "display_name": "Python 3",
   "language": "python",
   "name": "python3"
  },
  "language_info": {
   "codemirror_mode": {
    "name": "ipython",
    "version": 3
   },
   "file_extension": ".py",
   "mimetype": "text/x-python",
   "name": "python",
   "nbconvert_exporter": "python",
   "pygments_lexer": "ipython3",
   "version": "3.8.5"
  }
 },
 "nbformat": 4,
 "nbformat_minor": 5
}
